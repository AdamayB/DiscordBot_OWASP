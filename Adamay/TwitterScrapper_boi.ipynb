{
 "cells": [
  {
   "cell_type": "code",
   "execution_count": 1,
   "id": "001cd078",
   "metadata": {},
   "outputs": [
    {
     "name": "stdout",
     "output_type": "stream",
     "text": [
      "Looking in indexes: https://pypi.org/simple, https://pypi.ngc.nvidia.com\n",
      "Collecting snscrape\n",
      "  Downloading snscrape-0.5.0.20230113-py3-none-any.whl (69 kB)\n",
      "Requirement already satisfied: lxml in c:\\users\\adama\\anaconda3\\lib\\site-packages (from snscrape) (4.8.0)\n",
      "Requirement already satisfied: requests[socks] in c:\\users\\adama\\anaconda3\\lib\\site-packages (from snscrape) (2.27.1)\n",
      "Requirement already satisfied: beautifulsoup4 in c:\\users\\adama\\anaconda3\\lib\\site-packages (from snscrape) (4.11.1)\n",
      "Requirement already satisfied: filelock in c:\\users\\adama\\anaconda3\\lib\\site-packages (from snscrape) (3.6.0)\n",
      "Requirement already satisfied: soupsieve>1.2 in c:\\users\\adama\\anaconda3\\lib\\site-packages (from beautifulsoup4->snscrape) (2.3.1)\n",
      "Requirement already satisfied: urllib3<1.27,>=1.21.1 in c:\\users\\adama\\anaconda3\\lib\\site-packages (from requests[socks]->snscrape) (1.26.9)\n",
      "Requirement already satisfied: idna<4,>=2.5 in c:\\users\\adama\\anaconda3\\lib\\site-packages (from requests[socks]->snscrape) (3.3)\n",
      "Requirement already satisfied: charset-normalizer~=2.0.0 in c:\\users\\adama\\anaconda3\\lib\\site-packages (from requests[socks]->snscrape) (2.0.4)\n",
      "Requirement already satisfied: certifi>=2017.4.17 in c:\\users\\adama\\anaconda3\\lib\\site-packages (from requests[socks]->snscrape) (2021.10.8)\n",
      "Requirement already satisfied: PySocks!=1.5.7,>=1.5.6 in c:\\users\\adama\\anaconda3\\lib\\site-packages (from requests[socks]->snscrape) (1.7.1)\n",
      "Installing collected packages: snscrape\n",
      "Successfully installed snscrape-0.5.0.20230113\n"
     ]
    }
   ],
   "source": [
    "!pip install snscrape"
   ]
  },
  {
   "cell_type": "code",
   "execution_count": 2,
   "id": "df4273f4",
   "metadata": {},
   "outputs": [],
   "source": [
    "import snscrape.modules.twitter as sntwitter"
   ]
  },
  {
   "cell_type": "code",
   "execution_count": 3,
   "id": "304c5caa",
   "metadata": {},
   "outputs": [],
   "source": [
    "import pandas as pd"
   ]
  },
  {
   "cell_type": "code",
   "execution_count": 7,
   "id": "3e5f49df",
   "metadata": {},
   "outputs": [
    {
     "name": "stdout",
     "output_type": "stream",
     "text": [
      "Enter the query:zeus\n",
      "Enter minimum likes:4000\n",
      "Enter Date range\n",
      "Enter start date(in YYYY-MM-DD) format:2022-12-03\n",
      "Enter end date(in YYYY-MM-DD) format:2023-02-07\n"
     ]
    }
   ],
   "source": [
    "n=input('Enter the query:')\n",
    "like=input(\"Enter minimum likes:\")\n",
    "print(\"Enter Date range\")\n",
    "sdate=input(\"Enter start date(in YYYY-MM-DD) format:\")\n",
    "ldate=input(\"Enter end date(in YYYY-MM-DD) format:\")\n",
    "fQuery=\"{} min_faves:{} until:{} since:{}\".format(n,like,ldate,sdate)\n",
    "data=sntwitter.TwitterSearchScraper(fQuery)\n",
    "tweets=[]\n",
    "for i,tweet in enumerate(data.get_items()):\n",
    "    data1=[tweet.url,tweet.user.username,tweet.rawContent]\n",
    "    tweets.append(data1)\n",
    "    if i>50:\n",
    "        break"
   ]
  },
  {
   "cell_type": "code",
   "execution_count": 8,
   "id": "006a6734",
   "metadata": {},
   "outputs": [],
   "source": [
    "fData=pd.DataFrame(tweets,columns='Link Username Content'.split())"
   ]
  },
  {
   "cell_type": "code",
   "execution_count": 9,
   "id": "d81052d9",
   "metadata": {},
   "outputs": [],
   "source": [
    "csvFile=n+'.csv'\n",
    "fData.to_csv(csvFile,index=False)"
   ]
  },
  {
   "cell_type": "code",
   "execution_count": null,
   "id": "f6bba110",
   "metadata": {},
   "outputs": [],
   "source": []
  }
 ],
 "metadata": {
  "kernelspec": {
   "display_name": "Python 3 (ipykernel)",
   "language": "python",
   "name": "python3"
  },
  "language_info": {
   "codemirror_mode": {
    "name": "ipython",
    "version": 3
   },
   "file_extension": ".py",
   "mimetype": "text/x-python",
   "name": "python",
   "nbconvert_exporter": "python",
   "pygments_lexer": "ipython3",
   "version": "3.9.12"
  }
 },
 "nbformat": 4,
 "nbformat_minor": 5
}
